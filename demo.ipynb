{
 "cells": [
  {
   "cell_type": "code",
   "execution_count": 1,
   "source": [
    "import pandas as pd"
   ],
   "outputs": [],
   "metadata": {}
  },
  {
   "cell_type": "code",
   "execution_count": 4,
   "source": [
    "import pandas as pd\n",
    "from utils.model import Perceptron\n",
    "from utils.all_utils import prepare_data, save_plot, save_model\n",
    "\n",
    "def main(data,eta,epochs,modelName,plotName):\n",
    "\n",
    "    df = pd.DataFrame(data)\n",
    "    print(df)\n",
    "    X, y = prepare_data(df)\n",
    "    model =Perceptron(eta=eta,epochs=epochs)\n",
    "    model.fit(X,y)\n",
    "    _ = model.total_loss()\n",
    "    save_model(model,filename=modelName)\n",
    "    save_plot(df,filename=plotName,model=model)\n",
    "\n",
    "if __name__ == '__main__':\n",
    "    OR = {\n",
    "        \"x1\":[0,0,1,1],\n",
    "        \"x2\":[0,1,0,1],\n",
    "        \"y\":[0,1,1,1]\n",
    "    }   \n",
    "    ETA = 0.3 # 0 and 1\n",
    "    EPOCHS=10\n",
    "\n",
    "    main(OR, ETA, EPOCHS,modelName=\"or.model\",plotName=\"or.png\")"
   ],
   "outputs": [
    {
     "output_type": "error",
     "ename": "NameError",
     "evalue": "name 'model' is not defined",
     "traceback": [
      "\u001b[0;31m---------------------------------------------------------------------------\u001b[0m",
      "\u001b[0;31mNameError\u001b[0m                                 Traceback (most recent call last)",
      "\u001b[0;32m/var/folders/m4/x7kgyrvs5hj7qk_jcp3mfkvw0000gn/T/ipykernel_28616/446687150.py\u001b[0m in \u001b[0;36m<module>\u001b[0;34m\u001b[0m\n\u001b[1;32m     23\u001b[0m     \u001b[0mEPOCHS\u001b[0m\u001b[0;34m=\u001b[0m\u001b[0;36m10\u001b[0m\u001b[0;34m\u001b[0m\u001b[0;34m\u001b[0m\u001b[0m\n\u001b[1;32m     24\u001b[0m \u001b[0;34m\u001b[0m\u001b[0m\n\u001b[0;32m---> 25\u001b[0;31m     \u001b[0mmain\u001b[0m\u001b[0;34m(\u001b[0m\u001b[0mOR\u001b[0m\u001b[0;34m,\u001b[0m \u001b[0mETA\u001b[0m\u001b[0;34m,\u001b[0m \u001b[0mEPOCHS\u001b[0m\u001b[0;34m,\u001b[0m\u001b[0mmodel\u001b[0m\u001b[0;34m,\u001b[0m\u001b[0mName\u001b[0m\u001b[0;34m=\u001b[0m\u001b[0;34m\"or.model\"\u001b[0m\u001b[0;34m,\u001b[0m\u001b[0mplotName\u001b[0m\u001b[0;34m=\u001b[0m\u001b[0;34m\"or.png\"\u001b[0m\u001b[0;34m)\u001b[0m\u001b[0;34m\u001b[0m\u001b[0;34m\u001b[0m\u001b[0m\n\u001b[0m",
      "\u001b[0;31mNameError\u001b[0m: name 'model' is not defined"
     ]
    }
   ],
   "metadata": {}
  },
  {
   "cell_type": "code",
   "execution_count": null,
   "source": [],
   "outputs": [],
   "metadata": {}
  }
 ],
 "metadata": {
  "language_info": {
   "name": "python",
   "version": "3.7.11",
   "mimetype": "text/x-python",
   "codemirror_mode": {
    "name": "ipython",
    "version": 3
   },
   "pygments_lexer": "ipython3",
   "nbconvert_exporter": "python",
   "file_extension": ".py"
  },
  "kernelspec": {
   "name": "python3",
   "display_name": "Python 3.7.11 64-bit ('oneNeuron': conda)"
  },
  "interpreter": {
   "hash": "862e4c89481e8bc0a7932de6d631c0049ebe0798589f0afd5168d1572ffe77ea"
  }
 },
 "nbformat": 4,
 "nbformat_minor": 5
}